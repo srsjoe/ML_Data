{
  "nbformat": 4,
  "nbformat_minor": 0,
  "metadata": {
    "colab": {
      "name": "Homework 1.ipynb",
      "provenance": [],
      "collapsed_sections": [],
      "include_colab_link": true
    },
    "kernelspec": {
      "name": "python3",
      "display_name": "Python 3"
    },
    "language_info": {
      "name": "python"
    }
  },
  "cells": [
    {
      "cell_type": "markdown",
      "metadata": {
        "id": "view-in-github",
        "colab_type": "text"
      },
      "source": [
        "<a href=\"https://colab.research.google.com/github/srsjoe/ML_Data/blob/main/Homework_1.ipynb\" target=\"_parent\"><img src=\"https://colab.research.google.com/assets/colab-badge.svg\" alt=\"Open In Colab\"/></a>"
      ]
    },
    {
      "cell_type": "markdown",
      "source": [
        "# Answer all the questions!"
      ],
      "metadata": {
        "id": "FkJsXd8D06Rp"
      }
    },
    {
      "cell_type": "markdown",
      "source": [
        "##Write a Python program to get the volume of a sphere with radius 6"
      ],
      "metadata": {
        "id": "elOgKZR009ex"
      }
    },
    {
      "cell_type": "code",
      "source": [
        "radius= input(\"Enter radius: \") #takes user input \n",
        "pi= 3.1416      \n",
        "r= int(radius)  # r variable takes any integer value of radius.\n",
        "\n",
        "volume= volume = 4.0/3.0 * pi * (r*r*r) # formula of volume of sphere\n",
        "print( \"Volume : \" + str(volume)) # outputs the volume"
      ],
      "metadata": {
        "id": "YbhKO6Cs09av",
        "colab": {
          "base_uri": "https://localhost:8080/"
        },
        "outputId": "829578da-de2d-4f54-9fb4-3825ffd6ec06"
      },
      "execution_count": 1,
      "outputs": [
        {
          "output_type": "stream",
          "name": "stdout",
          "text": [
            "Enter radius: 3\n",
            "Volume : 113.09759999999999\n"
          ]
        }
      ]
    },
    {
      "cell_type": "markdown",
      "source": [
        "##Write a Python program to find whether a given number (accept from the user) is even or odd"
      ],
      "metadata": {
        "id": "OuX7aazu09X1"
      }
    },
    {
      "cell_type": "code",
      "source": [
        "num = int(input(\"Enter a number: \")) # takes user input\n",
        "\n",
        "if (num % 2) == 0:                   # checks for even : if the number is divided by 2 and with a remainder of 0, otherwise odd      \n",
        "   print(\"{0} is Even\".format(num))  # formats and gives output\n",
        "else:\n",
        "   print(\"{0} is Odd\".format(num))   # formats and gives output"
      ],
      "metadata": {
        "id": "vcYhNNaU09Uz",
        "colab": {
          "base_uri": "https://localhost:8080/"
        },
        "outputId": "45eabf78-9639-4082-fc5c-be3ecfb76a26"
      },
      "execution_count": 2,
      "outputs": [
        {
          "output_type": "stream",
          "name": "stdout",
          "text": [
            "Enter a number: 3\n",
            "3 is Odd\n"
          ]
        }
      ]
    },
    {
      "cell_type": "markdown",
      "source": [
        "##Write a Python program to count the number 4 in a given list"
      ],
      "metadata": {
        "id": "NP5TZKqO09Rr"
      }
    },
    {
      "cell_type": "code",
      "source": [
        "numbers = [2,4,6,4,7,9,4,0] # A list containing number 4\n",
        "count = numbers.count(4)    # checks the count of number 4\n",
        "print('Count of 4:', count) # outputs the answer"
      ],
      "metadata": {
        "id": "oWZ3vTfW09Oh",
        "colab": {
          "base_uri": "https://localhost:8080/"
        },
        "outputId": "36701cba-abb3-4b2c-f727-46fa6cafe62e"
      },
      "execution_count": 3,
      "outputs": [
        {
          "output_type": "stream",
          "name": "stdout",
          "text": [
            "Count of 4: 3\n"
          ]
        }
      ]
    },
    {
      "cell_type": "markdown",
      "source": [
        "##Write a Python program that will accept the base and height of a triangle and compute the area"
      ],
      "metadata": {
        "id": "IK0FvUoa1MJG"
      }
    },
    {
      "cell_type": "code",
      "source": [
        "b = int(input(\"Input the base : \"))     # takes input for base \n",
        "h = int(input(\"Input the height : \"))   # takes input for height\n",
        "area = b*h/2                            # formula for area of a triangle\n",
        "print(\"Area = \", area)                  # outputa the computed area"
      ],
      "metadata": {
        "id": "G02dv4rh1MFs",
        "colab": {
          "base_uri": "https://localhost:8080/"
        },
        "outputId": "6234aaf4-f7ef-4bcd-96be-f64db5933726"
      },
      "execution_count": 5,
      "outputs": [
        {
          "output_type": "stream",
          "name": "stdout",
          "text": [
            "Input the base : 3\n",
            "Input the height : 2\n",
            "Area =  3.0\n"
          ]
        }
      ]
    },
    {
      "cell_type": "markdown",
      "source": [
        "##Write a Python program to convert the distance (in feet) to inches, yards, and miles."
      ],
      "metadata": {
        "id": "sOkeycZk1L5-"
      }
    },
    {
      "cell_type": "code",
      "source": [
        "distance_ft = int(input(\"Input distance in feet: \"))              # takes user input in feet\n",
        "distance_inches = distance_ft * 12                                # formula for converting feet to inches\n",
        "distance_yards = distance_ft / 3.0                                # formula for converting feet to yards\n",
        "distance_miles = distance_ft / 5280.0                             # formula for converting feet to miles\n",
        "\n",
        "print(\"The distance in inches is %.2f inches.\" % distance_inches)  # outputs the convertd distance(in feet) to inches\n",
        "print(\"The distance in yards is %.2f yards.\" % distance_yards)     # outputs the convertd distance(in feet) to yards\n",
        "print(\"The distance in miles is %.2f miles.\" % distance_miles)     #outputs the convertd distance(in feet) to miles"
      ],
      "metadata": {
        "id": "YtW-ZxqB1L2c",
        "colab": {
          "base_uri": "https://localhost:8080/"
        },
        "outputId": "8fbf84f1-cd48-4cad-ebb6-00a41f49e94b"
      },
      "execution_count": 6,
      "outputs": [
        {
          "output_type": "stream",
          "name": "stdout",
          "text": [
            "Input distance in feet: 2\n",
            "The distance in inches is 24.00 inches.\n",
            "The distance in yards is 0.67 yards.\n",
            "The distance in miles is 0.00 miles.\n"
          ]
        }
      ]
    }
  ]
}