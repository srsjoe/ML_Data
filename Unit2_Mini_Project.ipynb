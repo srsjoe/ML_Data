{
  "nbformat": 4,
  "nbformat_minor": 0,
  "metadata": {
    "colab": {
      "name": "Unit2_Mini_Project.ipynb",
      "provenance": [],
      "collapsed_sections": [],
      "include_colab_link": true
    },
    "kernelspec": {
      "name": "python3",
      "display_name": "Python 3"
    }
  },
  "cells": [
    {
      "cell_type": "markdown",
      "metadata": {
        "id": "view-in-github",
        "colab_type": "text"
      },
      "source": [
        "<a href=\"https://colab.research.google.com/github/srsjoe/ML_Data/blob/main/Unit2_Mini_Project.ipynb\" target=\"_parent\"><img src=\"https://colab.research.google.com/assets/colab-badge.svg\" alt=\"Open In Colab\"/></a>"
      ]
    },
    {
      "cell_type": "markdown",
      "metadata": {
        "id": "Vgs8Kp4TidFQ"
      },
      "source": [
        "# Intrdouction to Python - Mini Project"
      ]
    },
    {
      "cell_type": "markdown",
      "metadata": {
        "id": "_Hq7Ny79iwgD"
      },
      "source": [
        "#Python Project – Odd or Even\n",
        "\n",
        "Ask the user for a number. Depending on whether the number is even or odd, print out an appropriate message to the user. Hint: how does an even / odd number react differently when divided by 2?\n"
      ]
    },
    {
      "cell_type": "code",
      "metadata": {
        "id": "lotvpVpvlKsR",
        "outputId": "ff764d13-2d43-4e02-e5ca-1f5de3245c95",
        "colab": {
          "base_uri": "https://localhost:8080/"
        }
      },
      "source": [
        "num = int(input(\"Enter a number: \")) # takes user input\n",
        "\n",
        "if (num % 2) == 0:                   # checks for even : if the number is divided by 2 and with a remainder of 0, otherwise odd      \n",
        "   print(\"{0} is Even\".format(num))  # formats and gives output\n",
        "else:\n",
        "   print(\"{0} is Odd\".format(num))   # formats and gives output"
      ],
      "execution_count": 1,
      "outputs": [
        {
          "output_type": "stream",
          "name": "stdout",
          "text": [
            "Enter a number: 4\n",
            "4 is Even\n"
          ]
        }
      ]
    },
    {
      "cell_type": "markdown",
      "metadata": {
        "id": "io_27RSlizno"
      },
      "source": [
        "# Bonus:\n",
        "\n",
        "1.\tIf the number is a multiple of 4, print out a different message.\n",
        "\n",
        "2.\tAsk the user for two numbers: one number to check (call it num) and one number to divide by (check). If check divides evenly into num, tell that to the user. If not, print a different appropriate message.\n"
      ]
    },
    {
      "cell_type": "code",
      "metadata": {
        "id": "Dh1o5cAylSHB",
        "outputId": "dffb5004-ad83-4168-b9b3-0ddc8b81c8bb",
        "colab": {
          "base_uri": "https://localhost:8080/"
        }
      },
      "source": [
        "num = int(input(\"give me a number to check: \"))         # Takes user input the check a number\n",
        "check = int(input(\"give me a number to divide by: \"))   # Takes user input to devide by\n",
        "\n",
        "if num % 4 == 0:                                        # Checks if the number is a multiple of 4\n",
        "    print(num, \"is a multiple of 4\")                    # prints out the output\n",
        "elif num % 2 == 0:                                      # checks for even : if the number is divided by 2 and with a remainder of 0\n",
        "    print(num, \"is an even number\")\n",
        "else:                                                   # if not, else prints out that it is odd\n",
        "    print(num, \"is an odd number\")                      \n",
        "\n",
        "if num % check == 0:                                    # If check divides evenly into num, it prints out the appropriate masssage\n",
        "    print(num, \"divides evenly by\", check)\n",
        "else:\n",
        "    print(num, \"does not divide evenly by\", check)"
      ],
      "execution_count": 3,
      "outputs": [
        {
          "output_type": "stream",
          "name": "stdout",
          "text": [
            "give me a number to check: 16\n",
            "give me a number to divide by: 4\n",
            "16 is a multiple of 4\n",
            "16 divides evenly by 4\n"
          ]
        }
      ]
    }
  ]
}